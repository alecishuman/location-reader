{
  "nbformat": 4,
  "nbformat_minor": 0,
  "metadata": {
    "colab": {
      "name": "Copy of NLP Project.ipynb",
      "provenance": [],
      "collapsed_sections": [
        "0CnUQLfahgsZ",
        "dAburw8_hIiV",
        "Fe0ne_ewgG3w"
      ]
    },
    "kernelspec": {
      "name": "python3",
      "display_name": "Python 3"
    },
    "language_info": {
      "name": "python"
    }
  },
  "cells": [
    {
      "cell_type": "markdown",
      "metadata": {
        "id": "vnZ-Ci40ZNCv"
      },
      "source": [
        "### Model and Results"
      ]
    },
    {
      "cell_type": "code",
      "metadata": {
        "id": "9SRNZIJjI6qS"
      },
      "source": [
        "# poems is our input data and would be defined here, but it has been removed"
      ],
      "execution_count": null,
      "outputs": []
    },
    {
      "cell_type": "code",
      "metadata": {
        "id": "1aXPR3HwZpl-"
      },
      "source": [
        "import spacy\n",
        "nlp = spacy.load(\"en_core_web_sm\")\n",
        "\n",
        "counter = 0\n",
        "init_results = []\n",
        "for poem in poems:\n",
        "  for line in poem:\n",
        "    doc = nlp(line)\n",
        "    for x in doc.ents: # loop thru all results\n",
        "      if x.label_ == \"GPE\" or x.label_ == \"NORP\" or x.label_ == \"LOC\" or x.label_ == \"FAC\" or x.label_ == \"MONEY\" and x.text[0].isupper(): # if the label is one which could refer to a place, output the result\n",
        "        counter += 1\n",
        "        print(counter, \" \"*(3-len(str(counter))), x.label_, \" \"*(8-len(str(x.label_))), x.text, \" \"*(25-len(str(x.text))), poem[0])\n",
        "        init_results.append([poem[0], x.text])"
      ],
      "execution_count": null,
      "outputs": []
    },
    {
      "cell_type": "markdown",
      "metadata": {
        "id": "xMJ-zq6dZ3nh"
      },
      "source": [
        "### Processing Results"
      ]
    },
    {
      "cell_type": "markdown",
      "metadata": {
        "id": "0CnUQLfahgsZ"
      },
      "source": [
        "#### Remove lowercase results"
      ]
    },
    {
      "cell_type": "code",
      "metadata": {
        "id": "znQGqGHjVpqf"
      },
      "source": [
        "processed_results = [list for list in init_results if list[1].islower() != True or list[1] == 'china']\n",
        "processed_results"
      ],
      "execution_count": null,
      "outputs": []
    },
    {
      "cell_type": "markdown",
      "metadata": {
        "id": "dAburw8_hIiV"
      },
      "source": [
        "#### Combine results in same poem and remove repeating results from same poem"
      ]
    },
    {
      "cell_type": "code",
      "metadata": {
        "id": "NscKQimpZ711"
      },
      "source": [
        "title = 'To a Chameleon'\n",
        "no_repeat_results = [['To a Chameleon', 'The Dark King']]\n",
        "for lst in processed_results:\n",
        "  if lst[0] == title:\n",
        "    if lst[1].lower() not in no_repeat_results[len(no_repeat_results)-1][1].lower():\n",
        "      no_repeat_results[len(no_repeat_results)-1][1] = no_repeat_results[len(no_repeat_results)-1][1] + \", \" + lst[1]\n",
        "  else:\n",
        "    title = lst[0]\n",
        "    no_repeat_results += [[lst[0], lst[1]]]\n",
        "no_repeat_results"
      ],
      "execution_count": null,
      "outputs": []
    },
    {
      "cell_type": "markdown",
      "metadata": {
        "id": "Fe0ne_ewgG3w"
      },
      "source": [
        "### Print Results"
      ]
    },
    {
      "cell_type": "code",
      "metadata": {
        "id": "JTsRyL4Nd9Oh"
      },
      "source": [
        "counter = 1\n",
        "for lst in no_repeat_results:\n",
        "  print(counter, \" \" * (3-len(str(counter))), lst[0] + \":\", \" \" * (55-len(lst[0])), lst[1])\n",
        "  counter += 1"
      ],
      "execution_count": null,
      "outputs": []
    }
  ]
}